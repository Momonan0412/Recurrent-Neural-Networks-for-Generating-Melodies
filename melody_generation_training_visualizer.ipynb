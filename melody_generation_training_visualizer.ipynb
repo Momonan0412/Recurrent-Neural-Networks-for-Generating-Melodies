{
 "cells": [
  {
   "cell_type": "code",
   "execution_count": 1,
   "metadata": {},
   "outputs": [
    {
     "name": "stderr",
     "output_type": "stream",
     "text": [
      "2025-01-30 00:52:49.759064: I tensorflow/core/util/port.cc:153] oneDNN custom operations are on. You may see slightly different numerical results due to floating-point round-off errors from different computation orders. To turn them off, set the environment variable `TF_ENABLE_ONEDNN_OPTS=0`.\n",
      "2025-01-30 00:52:50.044435: E external/local_xla/xla/stream_executor/cuda/cuda_fft.cc:477] Unable to register cuFFT factory: Attempting to register factory for plugin cuFFT when one has already been registered\n",
      "WARNING: All log messages before absl::InitializeLog() is called are written to STDERR\n",
      "E0000 00:00:1738169570.159199     699 cuda_dnn.cc:8310] Unable to register cuDNN factory: Attempting to register factory for plugin cuDNN when one has already been registered\n",
      "E0000 00:00:1738169570.184344     699 cuda_blas.cc:1418] Unable to register cuBLAS factory: Attempting to register factory for plugin cuBLAS when one has already been registered\n",
      "2025-01-30 00:52:50.397428: I tensorflow/core/platform/cpu_feature_guard.cc:210] This TensorFlow binary is optimized to use available CPU instructions in performance-critical operations.\n",
      "To enable the following instructions: AVX2 AVX_VNNI FMA, in other operations, rebuild TensorFlow with the appropriate compiler flags.\n"
     ]
    },
    {
     "name": "stdout",
     "output_type": "stream",
     "text": [
      "Datasets in the file: ['inputs', 'targets']\n",
      "Inputs shape: (1140090, 64, 45)\n",
      "Targets shape: (1140090,)\n",
      "1140090\n",
      "1140090\n",
      "Train Test.....\n",
      "Train Validation.....\n"
     ]
    }
   ],
   "source": [
    "import numpy as np\n",
    "from data_handler import StaticDataHandler\n",
    "from model_builder import ModelBuilder\n",
    "from constants import *\n",
    "import tensorflow as tf\n",
    "from tensorflow.keras.callbacks import ReduceLROnPlateau\n",
    "from tensorflow.keras.models import load_model\n",
    "from tensorflow.keras.callbacks import ModelCheckpoint\n",
    "# from sklearn.model_selection import train_test_split\n",
    "data = StaticDataHandler._load_h5py_data(H5PY_PATH)\n",
    "print(len(data['inputs']))\n",
    "print(len(data['targets']))\n",
    "print(\"Train Test.....\")\n",
    "_train_data, _test_data = StaticDataHandler._train_split_test(split_ratio=0.2, input_data=data)\n",
    "# X_train, X_test, y_train, y_test = train_test_split(data['inputs'], data['targets'], test_size=0.33, random_state=42)\n",
    "print(\"Train Validation.....\")\n",
    "# X_train, X_validation, y_train, y_validation = train_test_split(X_train, y_train, test_size=0.33, random_state=42)\n",
    "_train_data, _validation_data = StaticDataHandler._train_split_test(split_ratio=0.2, input_data=_train_data)\n",
    "mappings = StaticDataHandler._load_jsonfile_into_song(MAPPING_PATH)"
   ]
  },
  {
   "cell_type": "code",
   "execution_count": 2,
   "metadata": {},
   "outputs": [
    {
     "name": "stdout",
     "output_type": "stream",
     "text": [
      "Data type: <class 'dict'>\n",
      "Total length: 45\n",
      "Inputs Train Length 729660\n",
      "Inputs Validation Length 182413\n",
      "Inputs Test Length 228017\n",
      "Total Length:  1140090\n"
     ]
    }
   ],
   "source": [
    "print(\"Data type:\", type(mappings))\n",
    "print(\"Total length:\", len(mappings))\n",
    "# print(\"Inputs Train Length\", len(X_train))\n",
    "# print(\"Inputs Validation Length\", len(X_validation))\n",
    "# print(\"Inputs Test Length\", len(X_test))\n",
    "# print(\"Total Length: \", len(X_train) + len(X_validation) + len(X_test))\n",
    "print(\"Inputs Train Length\", len(_train_data['inputs']))\n",
    "print(\"Inputs Validation Length\", len(_validation_data['inputs']))\n",
    "print(\"Inputs Test Length\", len(_test_data['inputs']))\n",
    "print(\"Total Length: \", len(_train_data['inputs']) + len(_validation_data['inputs']) + len(_test_data['inputs']))"
   ]
  },
  {
   "cell_type": "code",
   "execution_count": 3,
   "metadata": {},
   "outputs": [
    {
     "name": "stderr",
     "output_type": "stream",
     "text": [
      "I0000 00:00:1738169598.445944     699 gpu_process_state.cc:201] Using CUDA malloc Async allocator for GPU: 0\n",
      "I0000 00:00:1738169598.454607     699 gpu_device.cc:2022] Created device /job:localhost/replica:0/task:0/device:GPU:0 with 1767 MB memory:  -> device: 0, name: NVIDIA GeForce RTX 3050 Laptop GPU, pci bus id: 0000:01:00.0, compute capability: 8.6\n"
     ]
    },
    {
     "data": {
      "text/html": [
       "<pre style=\"white-space:pre;overflow-x:auto;line-height:normal;font-family:Menlo,'DejaVu Sans Mono',consolas,'Courier New',monospace\"><span style=\"font-weight: bold\">Model: \"functional\"</span>\n",
       "</pre>\n"
      ],
      "text/plain": [
       "\u001b[1mModel: \"functional\"\u001b[0m\n"
      ]
     },
     "metadata": {},
     "output_type": "display_data"
    },
    {
     "data": {
      "text/html": [
       "<pre style=\"white-space:pre;overflow-x:auto;line-height:normal;font-family:Menlo,'DejaVu Sans Mono',consolas,'Courier New',monospace\">┏━━━━━━━━━━━━━━━━━━━━━━━━━━━━━━━━━┳━━━━━━━━━━━━━━━━━━━━━━━━┳━━━━━━━━━━━━━━━┓\n",
       "┃<span style=\"font-weight: bold\"> Layer (type)                    </span>┃<span style=\"font-weight: bold\"> Output Shape           </span>┃<span style=\"font-weight: bold\">       Param # </span>┃\n",
       "┡━━━━━━━━━━━━━━━━━━━━━━━━━━━━━━━━━╇━━━━━━━━━━━━━━━━━━━━━━━━╇━━━━━━━━━━━━━━━┩\n",
       "│ input_layer (<span style=\"color: #0087ff; text-decoration-color: #0087ff\">InputLayer</span>)        │ (<span style=\"color: #00d7ff; text-decoration-color: #00d7ff\">None</span>, <span style=\"color: #00d7ff; text-decoration-color: #00d7ff\">None</span>, <span style=\"color: #00af00; text-decoration-color: #00af00\">45</span>)       │             <span style=\"color: #00af00; text-decoration-color: #00af00\">0</span> │\n",
       "├─────────────────────────────────┼────────────────────────┼───────────────┤\n",
       "│ lstm (<span style=\"color: #0087ff; text-decoration-color: #0087ff\">LSTM</span>)                     │ (<span style=\"color: #00d7ff; text-decoration-color: #00d7ff\">None</span>, <span style=\"color: #00d7ff; text-decoration-color: #00d7ff\">None</span>, <span style=\"color: #00af00; text-decoration-color: #00af00\">128</span>)      │        <span style=\"color: #00af00; text-decoration-color: #00af00\">89,088</span> │\n",
       "├─────────────────────────────────┼────────────────────────┼───────────────┤\n",
       "│ dropout (<span style=\"color: #0087ff; text-decoration-color: #0087ff\">Dropout</span>)               │ (<span style=\"color: #00d7ff; text-decoration-color: #00d7ff\">None</span>, <span style=\"color: #00d7ff; text-decoration-color: #00d7ff\">None</span>, <span style=\"color: #00af00; text-decoration-color: #00af00\">128</span>)      │             <span style=\"color: #00af00; text-decoration-color: #00af00\">0</span> │\n",
       "├─────────────────────────────────┼────────────────────────┼───────────────┤\n",
       "│ lstm_1 (<span style=\"color: #0087ff; text-decoration-color: #0087ff\">LSTM</span>)                   │ (<span style=\"color: #00d7ff; text-decoration-color: #00d7ff\">None</span>, <span style=\"color: #00af00; text-decoration-color: #00af00\">64</span>)             │        <span style=\"color: #00af00; text-decoration-color: #00af00\">49,408</span> │\n",
       "├─────────────────────────────────┼────────────────────────┼───────────────┤\n",
       "│ dropout_1 (<span style=\"color: #0087ff; text-decoration-color: #0087ff\">Dropout</span>)             │ (<span style=\"color: #00d7ff; text-decoration-color: #00d7ff\">None</span>, <span style=\"color: #00af00; text-decoration-color: #00af00\">64</span>)             │             <span style=\"color: #00af00; text-decoration-color: #00af00\">0</span> │\n",
       "├─────────────────────────────────┼────────────────────────┼───────────────┤\n",
       "│ dense (<span style=\"color: #0087ff; text-decoration-color: #0087ff\">Dense</span>)                   │ (<span style=\"color: #00d7ff; text-decoration-color: #00d7ff\">None</span>, <span style=\"color: #00af00; text-decoration-color: #00af00\">64</span>)             │         <span style=\"color: #00af00; text-decoration-color: #00af00\">4,160</span> │\n",
       "├─────────────────────────────────┼────────────────────────┼───────────────┤\n",
       "│ batch_normalization             │ (<span style=\"color: #00d7ff; text-decoration-color: #00d7ff\">None</span>, <span style=\"color: #00af00; text-decoration-color: #00af00\">64</span>)             │           <span style=\"color: #00af00; text-decoration-color: #00af00\">256</span> │\n",
       "│ (<span style=\"color: #0087ff; text-decoration-color: #0087ff\">BatchNormalization</span>)            │                        │               │\n",
       "├─────────────────────────────────┼────────────────────────┼───────────────┤\n",
       "│ dropout_2 (<span style=\"color: #0087ff; text-decoration-color: #0087ff\">Dropout</span>)             │ (<span style=\"color: #00d7ff; text-decoration-color: #00d7ff\">None</span>, <span style=\"color: #00af00; text-decoration-color: #00af00\">64</span>)             │             <span style=\"color: #00af00; text-decoration-color: #00af00\">0</span> │\n",
       "├─────────────────────────────────┼────────────────────────┼───────────────┤\n",
       "│ dense_1 (<span style=\"color: #0087ff; text-decoration-color: #0087ff\">Dense</span>)                 │ (<span style=\"color: #00d7ff; text-decoration-color: #00d7ff\">None</span>, <span style=\"color: #00af00; text-decoration-color: #00af00\">45</span>)             │         <span style=\"color: #00af00; text-decoration-color: #00af00\">2,925</span> │\n",
       "└─────────────────────────────────┴────────────────────────┴───────────────┘\n",
       "</pre>\n"
      ],
      "text/plain": [
       "┏━━━━━━━━━━━━━━━━━━━━━━━━━━━━━━━━━┳━━━━━━━━━━━━━━━━━━━━━━━━┳━━━━━━━━━━━━━━━┓\n",
       "┃\u001b[1m \u001b[0m\u001b[1mLayer (type)                   \u001b[0m\u001b[1m \u001b[0m┃\u001b[1m \u001b[0m\u001b[1mOutput Shape          \u001b[0m\u001b[1m \u001b[0m┃\u001b[1m \u001b[0m\u001b[1m      Param #\u001b[0m\u001b[1m \u001b[0m┃\n",
       "┡━━━━━━━━━━━━━━━━━━━━━━━━━━━━━━━━━╇━━━━━━━━━━━━━━━━━━━━━━━━╇━━━━━━━━━━━━━━━┩\n",
       "│ input_layer (\u001b[38;5;33mInputLayer\u001b[0m)        │ (\u001b[38;5;45mNone\u001b[0m, \u001b[38;5;45mNone\u001b[0m, \u001b[38;5;34m45\u001b[0m)       │             \u001b[38;5;34m0\u001b[0m │\n",
       "├─────────────────────────────────┼────────────────────────┼───────────────┤\n",
       "│ lstm (\u001b[38;5;33mLSTM\u001b[0m)                     │ (\u001b[38;5;45mNone\u001b[0m, \u001b[38;5;45mNone\u001b[0m, \u001b[38;5;34m128\u001b[0m)      │        \u001b[38;5;34m89,088\u001b[0m │\n",
       "├─────────────────────────────────┼────────────────────────┼───────────────┤\n",
       "│ dropout (\u001b[38;5;33mDropout\u001b[0m)               │ (\u001b[38;5;45mNone\u001b[0m, \u001b[38;5;45mNone\u001b[0m, \u001b[38;5;34m128\u001b[0m)      │             \u001b[38;5;34m0\u001b[0m │\n",
       "├─────────────────────────────────┼────────────────────────┼───────────────┤\n",
       "│ lstm_1 (\u001b[38;5;33mLSTM\u001b[0m)                   │ (\u001b[38;5;45mNone\u001b[0m, \u001b[38;5;34m64\u001b[0m)             │        \u001b[38;5;34m49,408\u001b[0m │\n",
       "├─────────────────────────────────┼────────────────────────┼───────────────┤\n",
       "│ dropout_1 (\u001b[38;5;33mDropout\u001b[0m)             │ (\u001b[38;5;45mNone\u001b[0m, \u001b[38;5;34m64\u001b[0m)             │             \u001b[38;5;34m0\u001b[0m │\n",
       "├─────────────────────────────────┼────────────────────────┼───────────────┤\n",
       "│ dense (\u001b[38;5;33mDense\u001b[0m)                   │ (\u001b[38;5;45mNone\u001b[0m, \u001b[38;5;34m64\u001b[0m)             │         \u001b[38;5;34m4,160\u001b[0m │\n",
       "├─────────────────────────────────┼────────────────────────┼───────────────┤\n",
       "│ batch_normalization             │ (\u001b[38;5;45mNone\u001b[0m, \u001b[38;5;34m64\u001b[0m)             │           \u001b[38;5;34m256\u001b[0m │\n",
       "│ (\u001b[38;5;33mBatchNormalization\u001b[0m)            │                        │               │\n",
       "├─────────────────────────────────┼────────────────────────┼───────────────┤\n",
       "│ dropout_2 (\u001b[38;5;33mDropout\u001b[0m)             │ (\u001b[38;5;45mNone\u001b[0m, \u001b[38;5;34m64\u001b[0m)             │             \u001b[38;5;34m0\u001b[0m │\n",
       "├─────────────────────────────────┼────────────────────────┼───────────────┤\n",
       "│ dense_1 (\u001b[38;5;33mDense\u001b[0m)                 │ (\u001b[38;5;45mNone\u001b[0m, \u001b[38;5;34m45\u001b[0m)             │         \u001b[38;5;34m2,925\u001b[0m │\n",
       "└─────────────────────────────────┴────────────────────────┴───────────────┘\n"
      ]
     },
     "metadata": {},
     "output_type": "display_data"
    },
    {
     "data": {
      "text/html": [
       "<pre style=\"white-space:pre;overflow-x:auto;line-height:normal;font-family:Menlo,'DejaVu Sans Mono',consolas,'Courier New',monospace\"><span style=\"font-weight: bold\"> Total params: </span><span style=\"color: #00af00; text-decoration-color: #00af00\">291,548</span> (1.11 MB)\n",
       "</pre>\n"
      ],
      "text/plain": [
       "\u001b[1m Total params: \u001b[0m\u001b[38;5;34m291,548\u001b[0m (1.11 MB)\n"
      ]
     },
     "metadata": {},
     "output_type": "display_data"
    },
    {
     "data": {
      "text/html": [
       "<pre style=\"white-space:pre;overflow-x:auto;line-height:normal;font-family:Menlo,'DejaVu Sans Mono',consolas,'Courier New',monospace\"><span style=\"font-weight: bold\"> Trainable params: </span><span style=\"color: #00af00; text-decoration-color: #00af00\">145,709</span> (569.18 KB)\n",
       "</pre>\n"
      ],
      "text/plain": [
       "\u001b[1m Trainable params: \u001b[0m\u001b[38;5;34m145,709\u001b[0m (569.18 KB)\n"
      ]
     },
     "metadata": {},
     "output_type": "display_data"
    },
    {
     "data": {
      "text/html": [
       "<pre style=\"white-space:pre;overflow-x:auto;line-height:normal;font-family:Menlo,'DejaVu Sans Mono',consolas,'Courier New',monospace\"><span style=\"font-weight: bold\"> Non-trainable params: </span><span style=\"color: #00af00; text-decoration-color: #00af00\">128</span> (512.00 B)\n",
       "</pre>\n"
      ],
      "text/plain": [
       "\u001b[1m Non-trainable params: \u001b[0m\u001b[38;5;34m128\u001b[0m (512.00 B)\n"
      ]
     },
     "metadata": {},
     "output_type": "display_data"
    },
    {
     "data": {
      "text/html": [
       "<pre style=\"white-space:pre;overflow-x:auto;line-height:normal;font-family:Menlo,'DejaVu Sans Mono',consolas,'Courier New',monospace\"><span style=\"font-weight: bold\"> Optimizer params: </span><span style=\"color: #00af00; text-decoration-color: #00af00\">145,711</span> (569.19 KB)\n",
       "</pre>\n"
      ],
      "text/plain": [
       "\u001b[1m Optimizer params: \u001b[0m\u001b[38;5;34m145,711\u001b[0m (569.19 KB)\n"
      ]
     },
     "metadata": {},
     "output_type": "display_data"
    }
   ],
   "source": [
    "# m = ModelBuilder()\n",
    "# model = m._build_model()\n",
    "model = load_model('model_checkpoint_epoch_20.keras')\n",
    "model.summary()"
   ]
  },
  {
   "cell_type": "code",
   "execution_count": 4,
   "metadata": {},
   "outputs": [],
   "source": [
    "# # Train\n",
    "# history = model.fit(_train_data['inputs'], _train_data['targets'], \n",
    "#                     validation_data=(_validation_data['inputs'], _validation_data['targets']), \n",
    "#                     batch_size=BATCH_SIZE, epochs=NUMBER_EPOCH, validation_freq=5)\n",
    "# # Evaluate\n",
    "# test_error, test_accuracy = model.evaluate(_test_data['inputs'], _test_data['targets'], verbose=1)\n",
    "# print(\"Accuracy on Test Set: \", test_accuracy)\n",
    "# print(\"Error on Test Set: \", test_error)\n",
    "\n",
    "\n",
    "# Create TensorFlow datasets\n",
    "train_dataset = tf.data.Dataset.from_tensor_slices((_train_data['inputs'], _train_data['targets']))\n",
    "train_dataset = train_dataset.batch(BATCH_SIZE).prefetch(tf.data.AUTOTUNE)\n",
    "\n",
    "validation_dataset = tf.data.Dataset.from_tensor_slices((_validation_data['inputs'], _validation_data['targets']))\n",
    "validation_dataset = validation_dataset.batch(BATCH_SIZE).prefetch(tf.data.AUTOTUNE)\n",
    "\n",
    "test_dataset = tf.data.Dataset.from_tensor_slices((_test_data['inputs'], _test_data['targets']))\n",
    "test_dataset = test_dataset.batch(BATCH_SIZE).prefetch(tf.data.AUTOTUNE)"
   ]
  },
  {
   "cell_type": "code",
   "execution_count": 5,
   "metadata": {},
   "outputs": [
    {
     "name": "stdout",
     "output_type": "stream",
     "text": [
      "Epoch 22/50\n"
     ]
    },
    {
     "name": "stderr",
     "output_type": "stream",
     "text": [
      "I0000 00:00:1738169653.763267     907 cuda_dnn.cc:529] Loaded cuDNN version 90300\n"
     ]
    },
    {
     "name": "stdout",
     "output_type": "stream",
     "text": [
      "\u001b[1m22802/22802\u001b[0m \u001b[32m━━━━━━━━━━━━━━━━━━━━\u001b[0m\u001b[37m\u001b[0m \u001b[1m481s\u001b[0m 21ms/step - loss: 0.5660 - sparse_categorical_accuracy: 0.8353 - learning_rate: 0.0010\n",
      "Epoch 23/50\n",
      "\u001b[1m    6/22802\u001b[0m \u001b[37m━━━━━━━━━━━━━━━━━━━━\u001b[0m \u001b[1m7:57\u001b[0m 21ms/step - loss: 0.4251 - sparse_categorical_accuracy: 0.8741"
     ]
    },
    {
     "name": "stderr",
     "output_type": "stream",
     "text": [
      "/home/nigelchua0412/projects/tf217/venv-tf217/lib/python3.12/site-packages/keras/src/callbacks/model_checkpoint.py:209: UserWarning: Can save best model only with val_loss available, skipping.\n",
      "  self._save_model(epoch=epoch, batch=None, logs=logs)\n"
     ]
    },
    {
     "name": "stdout",
     "output_type": "stream",
     "text": [
      "\u001b[1m22802/22802\u001b[0m \u001b[32m━━━━━━━━━━━━━━━━━━━━\u001b[0m\u001b[37m\u001b[0m \u001b[1m464s\u001b[0m 20ms/step - loss: 0.5656 - sparse_categorical_accuracy: 0.8364 - learning_rate: 0.0010\n",
      "Epoch 24/50\n",
      "\u001b[1m22802/22802\u001b[0m \u001b[32m━━━━━━━━━━━━━━━━━━━━\u001b[0m\u001b[37m\u001b[0m \u001b[1m472s\u001b[0m 21ms/step - loss: 0.5621 - sparse_categorical_accuracy: 0.8371 - learning_rate: 0.0010\n",
      "Epoch 25/50\n",
      "\u001b[1m22801/22802\u001b[0m \u001b[32m━━━━━━━━━━━━━━━━━━━\u001b[0m\u001b[37m━\u001b[0m \u001b[1m0s\u001b[0m 21ms/step - loss: 0.5610 - sparse_categorical_accuracy: 0.8378\n",
      "Epoch 25: val_loss improved from inf to 0.53176, saving model to model_checkpoint_epoch_25.keras\n",
      "\u001b[1m22802/22802\u001b[0m \u001b[32m━━━━━━━━━━━━━━━━━━━━\u001b[0m\u001b[37m\u001b[0m \u001b[1m543s\u001b[0m 24ms/step - loss: 0.5610 - sparse_categorical_accuracy: 0.8378 - val_loss: 0.5318 - val_sparse_categorical_accuracy: 0.8420 - learning_rate: 0.0010\n",
      "Epoch 26/50\n",
      "\u001b[1m22802/22802\u001b[0m \u001b[32m━━━━━━━━━━━━━━━━━━━━\u001b[0m\u001b[37m\u001b[0m \u001b[1m608s\u001b[0m 27ms/step - loss: 0.5587 - sparse_categorical_accuracy: 0.8382 - learning_rate: 0.0010\n",
      "Epoch 27/50\n",
      "\u001b[1m22802/22802\u001b[0m \u001b[32m━━━━━━━━━━━━━━━━━━━━\u001b[0m\u001b[37m\u001b[0m \u001b[1m634s\u001b[0m 28ms/step - loss: 0.5568 - sparse_categorical_accuracy: 0.8388 - learning_rate: 0.0010\n",
      "Epoch 28/50\n",
      "\u001b[1m22802/22802\u001b[0m \u001b[32m━━━━━━━━━━━━━━━━━━━━\u001b[0m\u001b[37m\u001b[0m \u001b[1m627s\u001b[0m 28ms/step - loss: 0.5545 - sparse_categorical_accuracy: 0.8386 - learning_rate: 0.0010\n",
      "Epoch 29/50\n",
      "\u001b[1m22802/22802\u001b[0m \u001b[32m━━━━━━━━━━━━━━━━━━━━\u001b[0m\u001b[37m\u001b[0m \u001b[1m620s\u001b[0m 27ms/step - loss: 0.5525 - sparse_categorical_accuracy: 0.8398 - learning_rate: 0.0010\n",
      "Epoch 30/50\n",
      "\u001b[1m22801/22802\u001b[0m \u001b[32m━━━━━━━━━━━━━━━━━━━\u001b[0m\u001b[37m━\u001b[0m \u001b[1m0s\u001b[0m 29ms/step - loss: 0.5521 - sparse_categorical_accuracy: 0.8404\n",
      "Epoch 30: val_loss improved from 0.53176 to 0.52907, saving model to model_checkpoint_epoch_30.keras\n",
      "\u001b[1m22802/22802\u001b[0m \u001b[32m━━━━━━━━━━━━━━━━━━━━\u001b[0m\u001b[37m\u001b[0m \u001b[1m701s\u001b[0m 31ms/step - loss: 0.5521 - sparse_categorical_accuracy: 0.8404 - val_loss: 0.5291 - val_sparse_categorical_accuracy: 0.8436 - learning_rate: 0.0010\n",
      "Epoch 31/50\n",
      "\u001b[1m22802/22802\u001b[0m \u001b[32m━━━━━━━━━━━━━━━━━━━━\u001b[0m\u001b[37m\u001b[0m \u001b[1m624s\u001b[0m 27ms/step - loss: 0.5511 - sparse_categorical_accuracy: 0.8409 - learning_rate: 0.0010\n",
      "Epoch 32/50\n",
      "\u001b[1m22802/22802\u001b[0m \u001b[32m━━━━━━━━━━━━━━━━━━━━\u001b[0m\u001b[37m\u001b[0m \u001b[1m669s\u001b[0m 29ms/step - loss: 0.5500 - sparse_categorical_accuracy: 0.8406 - learning_rate: 0.0010\n",
      "Epoch 33/50\n",
      "\u001b[1m22802/22802\u001b[0m \u001b[32m━━━━━━━━━━━━━━━━━━━━\u001b[0m\u001b[37m\u001b[0m \u001b[1m684s\u001b[0m 30ms/step - loss: 0.5498 - sparse_categorical_accuracy: 0.8409 - learning_rate: 0.0010\n",
      "Epoch 34/50\n",
      "\u001b[1m22802/22802\u001b[0m \u001b[32m━━━━━━━━━━━━━━━━━━━━\u001b[0m\u001b[37m\u001b[0m \u001b[1m687s\u001b[0m 30ms/step - loss: 0.5495 - sparse_categorical_accuracy: 0.8409 - learning_rate: 0.0010\n",
      "Epoch 35/50\n",
      "\u001b[1m22802/22802\u001b[0m \u001b[32m━━━━━━━━━━━━━━━━━━━━\u001b[0m\u001b[37m\u001b[0m \u001b[1m0s\u001b[0m 29ms/step - loss: 0.5483 - sparse_categorical_accuracy: 0.8407\n",
      "Epoch 35: val_loss did not improve from 0.52907\n",
      "\u001b[1m22802/22802\u001b[0m \u001b[32m━━━━━━━━━━━━━━━━━━━━\u001b[0m\u001b[37m\u001b[0m \u001b[1m691s\u001b[0m 30ms/step - loss: 0.5483 - sparse_categorical_accuracy: 0.8407 - val_loss: 0.5365 - val_sparse_categorical_accuracy: 0.8411 - learning_rate: 0.0010\n",
      "Epoch 36/50\n",
      "\u001b[1m22802/22802\u001b[0m \u001b[32m━━━━━━━━━━━━━━━━━━━━\u001b[0m\u001b[37m\u001b[0m \u001b[1m659s\u001b[0m 29ms/step - loss: 0.5472 - sparse_categorical_accuracy: 0.8413 - learning_rate: 0.0010\n",
      "Epoch 37/50\n",
      "\u001b[1m22802/22802\u001b[0m \u001b[32m━━━━━━━━━━━━━━━━━━━━\u001b[0m\u001b[37m\u001b[0m \u001b[1m650s\u001b[0m 29ms/step - loss: 0.5471 - sparse_categorical_accuracy: 0.8416 - learning_rate: 0.0010\n",
      "Epoch 38/50\n",
      "\u001b[1m22802/22802\u001b[0m \u001b[32m━━━━━━━━━━━━━━━━━━━━\u001b[0m\u001b[37m\u001b[0m \u001b[1m663s\u001b[0m 29ms/step - loss: 0.5472 - sparse_categorical_accuracy: 0.8417 - learning_rate: 0.0010\n",
      "Epoch 39/50\n",
      "\u001b[1m22802/22802\u001b[0m \u001b[32m━━━━━━━━━━━━━━━━━━━━\u001b[0m\u001b[37m\u001b[0m \u001b[1m665s\u001b[0m 29ms/step - loss: 0.5454 - sparse_categorical_accuracy: 0.8426 - learning_rate: 0.0010\n",
      "Epoch 40/50\n",
      "\u001b[1m22801/22802\u001b[0m \u001b[32m━━━━━━━━━━━━━━━━━━━\u001b[0m\u001b[37m━\u001b[0m \u001b[1m0s\u001b[0m 29ms/step - loss: 0.5450 - sparse_categorical_accuracy: 0.8428\n",
      "Epoch 40: val_loss did not improve from 0.52907\n",
      "\u001b[1m22802/22802\u001b[0m \u001b[32m━━━━━━━━━━━━━━━━━━━━\u001b[0m\u001b[37m\u001b[0m \u001b[1m714s\u001b[0m 31ms/step - loss: 0.5450 - sparse_categorical_accuracy: 0.8428 - val_loss: 0.5325 - val_sparse_categorical_accuracy: 0.8438 - learning_rate: 0.0010\n",
      "Epoch 41/50\n",
      "\u001b[1m22802/22802\u001b[0m \u001b[32m━━━━━━━━━━━━━━━━━━━━\u001b[0m\u001b[37m\u001b[0m \u001b[1m663s\u001b[0m 29ms/step - loss: 0.5439 - sparse_categorical_accuracy: 0.8429 - learning_rate: 0.0010\n",
      "Epoch 42/50\n",
      "\u001b[1m22802/22802\u001b[0m \u001b[32m━━━━━━━━━━━━━━━━━━━━\u001b[0m\u001b[37m\u001b[0m \u001b[1m669s\u001b[0m 29ms/step - loss: 0.5444 - sparse_categorical_accuracy: 0.8430 - learning_rate: 0.0010\n",
      "Epoch 43/50\n",
      "\u001b[1m22802/22802\u001b[0m \u001b[32m━━━━━━━━━━━━━━━━━━━━\u001b[0m\u001b[37m\u001b[0m \u001b[1m670s\u001b[0m 29ms/step - loss: 0.5436 - sparse_categorical_accuracy: 0.8427 - learning_rate: 0.0010\n",
      "Epoch 44/50\n",
      "\u001b[1m22802/22802\u001b[0m \u001b[32m━━━━━━━━━━━━━━━━━━━━\u001b[0m\u001b[37m\u001b[0m \u001b[1m660s\u001b[0m 29ms/step - loss: 0.5434 - sparse_categorical_accuracy: 0.8434 - learning_rate: 0.0010\n",
      "Epoch 45/50\n",
      "\u001b[1m22802/22802\u001b[0m \u001b[32m━━━━━━━━━━━━━━━━━━━━\u001b[0m\u001b[37m\u001b[0m \u001b[1m0s\u001b[0m 29ms/step - loss: 0.5432 - sparse_categorical_accuracy: 0.8437\n",
      "Epoch 45: val_loss did not improve from 0.52907\n",
      "\u001b[1m22802/22802\u001b[0m \u001b[32m━━━━━━━━━━━━━━━━━━━━\u001b[0m\u001b[37m\u001b[0m \u001b[1m712s\u001b[0m 31ms/step - loss: 0.5432 - sparse_categorical_accuracy: 0.8437 - val_loss: 0.5360 - val_sparse_categorical_accuracy: 0.8431 - learning_rate: 0.0010\n",
      "Epoch 46/50\n",
      "\u001b[1m22802/22802\u001b[0m \u001b[32m━━━━━━━━━━━━━━━━━━━━\u001b[0m\u001b[37m\u001b[0m \u001b[1m617s\u001b[0m 27ms/step - loss: 0.5413 - sparse_categorical_accuracy: 0.8437 - learning_rate: 0.0010\n",
      "Epoch 47/50\n",
      "\u001b[1m22802/22802\u001b[0m \u001b[32m━━━━━━━━━━━━━━━━━━━━\u001b[0m\u001b[37m\u001b[0m \u001b[1m659s\u001b[0m 29ms/step - loss: 0.5433 - sparse_categorical_accuracy: 0.8428 - learning_rate: 0.0010\n",
      "Epoch 48/50\n",
      "\u001b[1m22802/22802\u001b[0m \u001b[32m━━━━━━━━━━━━━━━━━━━━\u001b[0m\u001b[37m\u001b[0m \u001b[1m659s\u001b[0m 29ms/step - loss: 0.5416 - sparse_categorical_accuracy: 0.8435 - learning_rate: 0.0010\n",
      "Epoch 49/50\n",
      "\u001b[1m22802/22802\u001b[0m \u001b[32m━━━━━━━━━━━━━━━━━━━━\u001b[0m\u001b[37m\u001b[0m \u001b[1m647s\u001b[0m 28ms/step - loss: 0.5420 - sparse_categorical_accuracy: 0.8437 - learning_rate: 0.0010\n",
      "Epoch 50/50\n",
      "\u001b[1m22801/22802\u001b[0m \u001b[32m━━━━━━━━━━━━━━━━━━━\u001b[0m\u001b[37m━\u001b[0m \u001b[1m0s\u001b[0m 28ms/step - loss: 0.5417 - sparse_categorical_accuracy: 0.8442\n",
      "Epoch 50: val_loss did not improve from 0.52907\n",
      "\u001b[1m22802/22802\u001b[0m \u001b[32m━━━━━━━━━━━━━━━━━━━━\u001b[0m\u001b[37m\u001b[0m \u001b[1m681s\u001b[0m 30ms/step - loss: 0.5417 - sparse_categorical_accuracy: 0.8442 - val_loss: 0.5297 - val_sparse_categorical_accuracy: 0.8433 - learning_rate: 0.0010\n"
     ]
    }
   ],
   "source": [
    "\n",
    "# Define the ModelCheckpoint callback\n",
    "checkpoint_callback = ModelCheckpoint(\n",
    "    'model_checkpoint_epoch_{epoch}.keras',  # Save after each epoch\n",
    "    save_best_only=True,                    # Save the model at every epoch, if False\n",
    "    save_weights_only=False,                 # Save the entire model (architecture + weights + optimizer state)\n",
    "    verbose=1\n",
    ")\n",
    "# Define learning rate scheduler\n",
    "lr_scheduler = ReduceLROnPlateau(\n",
    "    monitor='loss',   # Watch the loss for stopping condition\n",
    "    factor=0.1,       # Reduce learning rate by 10% when the loss plateaus\n",
    "    patience=3        # Wait for 3 epochs with no improvement\n",
    ")\n",
    "# Train\n",
    "import threading\n",
    "threading.Thread(target=lambda: model.fit(\n",
    "                    train_dataset, \n",
    "                    validation_data=validation_dataset, \n",
    "                    epochs=NUMBER_EPOCH, initial_epoch=21, validation_freq=5, callbacks=[checkpoint_callback, lr_scheduler])).start()"
   ]
  },
  {
   "cell_type": "code",
   "execution_count": 6,
   "metadata": {},
   "outputs": [
    {
     "name": "stdout",
     "output_type": "stream",
     "text": [
      "\u001b[1m7126/7126\u001b[0m \u001b[32m━━━━━━━━━━━━━━━━━━━━\u001b[0m\u001b[37m\u001b[0m \u001b[1m68s\u001b[0m 9ms/step - loss: 0.5259 - sparse_categorical_accuracy: 0.8436\n",
      "Accuracy on Test Set:  0.8438318371772766\n",
      "Error on Test Set:  0.5249736309051514\n"
     ]
    }
   ],
   "source": [
    "# Evaluate\n",
    "test_error, test_accuracy = model.evaluate(test_dataset, verbose=1)\n",
    "print(\"Accuracy on Test Set: \", test_accuracy)\n",
    "print(\"Error on Test Set: \", test_error)\n",
    "model.save(\"melody_generation_model_complete.keras\")"
   ]
  }
 ],
 "metadata": {
  "kernelspec": {
   "display_name": "venv-tf217",
   "language": "python",
   "name": "python3"
  },
  "language_info": {
   "codemirror_mode": {
    "name": "ipython",
    "version": 3
   },
   "file_extension": ".py",
   "mimetype": "text/x-python",
   "name": "python",
   "nbconvert_exporter": "python",
   "pygments_lexer": "ipython3",
   "version": "3.12.3"
  }
 },
 "nbformat": 4,
 "nbformat_minor": 2
}
