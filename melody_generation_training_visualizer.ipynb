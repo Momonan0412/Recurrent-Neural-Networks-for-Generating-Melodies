{
 "cells": [
  {
   "cell_type": "code",
   "execution_count": null,
   "metadata": {},
   "outputs": [],
   "source": [
    "import numpy as np\n",
    "from data_handler import StaticDataHandler\n",
    "from model_builder import ModelBuilder\n",
    "from constants import *\n",
    "import tensorflow as tf\n",
    "from tensorflow.keras.callbacks import ReduceLROnPlateau\n",
    "from tensorflow.keras.models import load_model\n",
    "from tensorflow.keras.callbacks import ModelCheckpoint\n",
    "# from sklearn.model_selection import train_test_split\n",
    "data = StaticDataHandler._load_h5py_data(H5PY_PATH)\n",
    "print(len(data['inputs']))\n",
    "print(len(data['targets']))\n",
    "print(\"Train Test.....\")\n",
    "_train_data, _test_data = StaticDataHandler._train_split_test(split_ratio=0.2, input_data=data)\n",
    "# X_train, X_test, y_train, y_test = train_test_split(data['inputs'], data['targets'], test_size=0.33, random_state=42)\n",
    "print(\"Train Validation.....\")\n",
    "# X_train, X_validation, y_train, y_validation = train_test_split(X_train, y_train, test_size=0.33, random_state=42)\n",
    "_train_data, _validation_data = StaticDataHandler._train_split_test(split_ratio=0.2, input_data=_train_data)\n",
    "mappings = StaticDataHandler._load_jsonfile_into_song(MAPPING_PATH)"
   ]
  },
  {
   "cell_type": "code",
   "execution_count": null,
   "metadata": {},
   "outputs": [],
   "source": [
    "print(\"Data type:\", type(mappings))\n",
    "print(\"Total length:\", len(mappings))\n",
    "# print(\"Inputs Train Length\", len(X_train))\n",
    "# print(\"Inputs Validation Length\", len(X_validation))\n",
    "# print(\"Inputs Test Length\", len(X_test))\n",
    "# print(\"Total Length: \", len(X_train) + len(X_validation) + len(X_test))\n",
    "print(\"Inputs Train Length\", len(_train_data['inputs']))\n",
    "print(\"Inputs Validation Length\", len(_validation_data['inputs']))\n",
    "print(\"Inputs Test Length\", len(_test_data['inputs']))\n",
    "print(\"Total Length: \", len(_train_data['inputs']) + len(_validation_data['inputs']) + len(_test_data['inputs']))"
   ]
  },
  {
   "cell_type": "code",
   "execution_count": null,
   "metadata": {},
   "outputs": [],
   "source": [
    "# m = ModelBuilder()\n",
    "# model = m._build_model()\n",
    "model = load_model('model_checkpoint_epoch_20.keras')\n",
    "model.summary()"
   ]
  },
  {
   "cell_type": "code",
   "execution_count": 4,
   "metadata": {},
   "outputs": [],
   "source": [
    "# # Train\n",
    "# history = model.fit(_train_data['inputs'], _train_data['targets'], \n",
    "#                     validation_data=(_validation_data['inputs'], _validation_data['targets']), \n",
    "#                     batch_size=BATCH_SIZE, epochs=NUMBER_EPOCH, validation_freq=5)\n",
    "# # Evaluate\n",
    "# test_error, test_accuracy = model.evaluate(_test_data['inputs'], _test_data['targets'], verbose=1)\n",
    "# print(\"Accuracy on Test Set: \", test_accuracy)\n",
    "# print(\"Error on Test Set: \", test_error)\n",
    "\n",
    "\n",
    "# Create TensorFlow datasets\n",
    "train_dataset = tf.data.Dataset.from_tensor_slices((_train_data['inputs'], _train_data['targets']))\n",
    "train_dataset = train_dataset.batch(BATCH_SIZE).prefetch(tf.data.AUTOTUNE)\n",
    "\n",
    "validation_dataset = tf.data.Dataset.from_tensor_slices((_validation_data['inputs'], _validation_data['targets']))\n",
    "validation_dataset = validation_dataset.batch(BATCH_SIZE).prefetch(tf.data.AUTOTUNE)\n",
    "\n",
    "test_dataset = tf.data.Dataset.from_tensor_slices((_test_data['inputs'], _test_data['targets']))\n",
    "test_dataset = test_dataset.batch(BATCH_SIZE).prefetch(tf.data.AUTOTUNE)"
   ]
  },
  {
   "cell_type": "code",
   "execution_count": null,
   "metadata": {},
   "outputs": [],
   "source": [
    "\n",
    "# Define the ModelCheckpoint callback\n",
    "checkpoint_callback = ModelCheckpoint(\n",
    "    'model_checkpoint_epoch_{epoch}.keras',  # Save after each epoch\n",
    "    save_best_only=True,                    # Save the model at every epoch, if False\n",
    "    save_weights_only=False,                 # Save the entire model (architecture + weights + optimizer state)\n",
    "    verbose=1\n",
    ")\n",
    "# Define learning rate scheduler\n",
    "lr_scheduler = ReduceLROnPlateau(\n",
    "    monitor='loss',   # Watch the loss for stopping condition\n",
    "    factor=0.1,       # Reduce learning rate by 10% when the loss plateaus\n",
    "    patience=3        # Wait for 3 epochs with no improvement\n",
    ")\n",
    "# Train\n",
    "import threading\n",
    "history = threading.Thread(target=lambda: model.fit(\n",
    "                    train_dataset, \n",
    "                    validation_data=validation_dataset, \n",
    "                    epochs=NUMBER_EPOCH, initial_epoch=16, validation_freq=5, callbacks=[checkpoint_callback, lr_scheduler])).start()"
   ]
  },
  {
   "cell_type": "code",
   "execution_count": null,
   "metadata": {},
   "outputs": [],
   "source": [
    "# Evaluate\n",
    "# test_error, test_accuracy = model.evaluate(test_dataset, verbose=1)\n",
    "# print(\"Accuracy on Test Set: \", test_accuracy)\n",
    "# print(\"Error on Test Set: \", test_error)"
   ]
  }
 ],
 "metadata": {
  "kernelspec": {
   "display_name": "venv-tf217",
   "language": "python",
   "name": "python3"
  },
  "language_info": {
   "codemirror_mode": {
    "name": "ipython",
    "version": 3
   },
   "file_extension": ".py",
   "mimetype": "text/x-python",
   "name": "python",
   "nbconvert_exporter": "python",
   "pygments_lexer": "ipython3",
   "version": "3.12.3"
  }
 },
 "nbformat": 4,
 "nbformat_minor": 2
}
